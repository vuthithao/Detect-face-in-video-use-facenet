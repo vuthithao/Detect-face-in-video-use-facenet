{
 "cells": [
  {
   "cell_type": "code",
   "execution_count": 1,
   "metadata": {},
   "outputs": [],
   "source": [
    "from __future__ import absolute_import\n",
    "from __future__ import division\n",
    "from __future__ import print_function\n",
    "\n",
    "from scipy import misc\n",
    "import sys\n",
    "import os\n",
    "import tensorflow as tf\n",
    "import numpy as np\n",
    "import facenet\n",
    "import align.detect_face\n",
    "import random\n",
    "from time import sleep\n",
    "import cv2\n",
    "\n",
    "import math\n",
    "import pickle\n",
    "from sklearn.svm import SVC"
   ]
  },
  {
   "cell_type": "code",
   "execution_count": 3,
   "metadata": {},
   "outputs": [],
   "source": [
    "margin = 44\n",
    "gpu_memory_fraction = 1.0\n",
    "detect_multiple_faces = False"
   ]
  },
  {
   "cell_type": "code",
   "execution_count": 4,
   "metadata": {},
   "outputs": [],
   "source": [
    "seed = 666\n",
    "image_size = 160\n",
    "do_prewhiten = True\n",
    "model = '/home/topica/workspace/facenet/src/ckpt/20180402-114759/'\n",
    "classifier_filename = '/home/topica/workspace/facenet/src/model_topica_weight.pkl'\n",
    "class_name = ['0','1','2','3','4','5','6','7','8','9','10']\n",
    "# image_path = '/home/topica/workspace/facenet/dataset_topica/0/face_2_334.png'"
   ]
  },
  {
   "cell_type": "code",
   "execution_count": 5,
   "metadata": {},
   "outputs": [
    {
     "name": "stdout",
     "output_type": "stream",
     "text": [
      "Creating networks and loading parameters\n"
     ]
    }
   ],
   "source": [
    "sleep(random.random())\n",
    "\n",
    "print('Creating networks and loading parameters')\n",
    "\n",
    "with tf.Graph().as_default():\n",
    "    gpu_options = tf.GPUOptions(per_process_gpu_memory_fraction=gpu_memory_fraction)\n",
    "    sess = tf.Session(config=tf.ConfigProto(gpu_options=gpu_options, log_device_placement=False))\n",
    "    with sess.as_default():\n",
    "        pnet, rnet, onet = align.detect_face.create_mtcnn(sess, None)\n",
    "\n",
    "minsize = 20 # minimum size of face\n",
    "threshold = [ 0.6, 0.7, 0.7 ]  # three steps's threshold\n",
    "factor = 0.709 # scale factor\n",
    "\n"
   ]
  },
  {
   "cell_type": "code",
   "execution_count": 6,
   "metadata": {},
   "outputs": [
    {
     "name": "stdout",
     "output_type": "stream",
     "text": [
      "Loading feature extraction model\n",
      "Model directory: /home/topica/workspace/facenet/src/ckpt/20180402-114759/\n",
      "Metagraph file: model-20180402-114759.meta\n",
      "Checkpoint file: model-20180402-114759.ckpt-275\n",
      "INFO:tensorflow:Restoring parameters from /home/topica/workspace/facenet/src/ckpt/20180402-114759/model-20180402-114759.ckpt-275\n",
      "['0', '1', '10', '2', '3', '4', '5', '6', '7', '8', '9']\n"
     ]
    },
    {
     "name": "stderr",
     "output_type": "stream",
     "text": [
      "/home/topica/anaconda3/envs/workspace/lib/python3.6/site-packages/ipykernel_launcher.py:57: DeprecationWarning: `imresize` is deprecated!\n",
      "`imresize` is deprecated in SciPy 1.0.0, and will be removed in 1.2.0.\n",
      "Use ``skimage.transform.resize`` instead.\n"
     ]
    }
   ],
   "source": [
    " with tf.Graph().as_default():\n",
    "        with tf.Session() as sess:   \n",
    "            np.random.seed(seed=seed)\n",
    "            \n",
    "            # Load the model\n",
    "            print('Loading feature extraction model')\n",
    "            facenet.load_model(model)\n",
    "            \n",
    "            # Get input and output tensors\n",
    "            images_placeholder = tf.get_default_graph().get_tensor_by_name(\"input:0\")\n",
    "            embeddings = tf.get_default_graph().get_tensor_by_name(\"embeddings:0\")\n",
    "            phase_train_placeholder = tf.get_default_graph().get_tensor_by_name(\"phase_train:0\")\n",
    "            embedding_size = embeddings.get_shape()[1]\n",
    "            \n",
    "            classifier_filename_exp = os.path.expanduser(classifier_filename)\n",
    "            \n",
    "            with open(classifier_filename_exp, 'rb') as infile:\n",
    "                (model, class_names) = pickle.load(infile)\n",
    "            print(class_names)\n",
    "            cap = cv2.VideoCapture(\"/home/topica/Video_topica/T6_08_20180816_090000.avi\")\n",
    "            frame = 0\n",
    "            while(True):\n",
    "                ret, img = cap.read()\n",
    "        \n",
    "#                 have_face, crop_face, bb = crop_face(img)\n",
    "                # crop face\n",
    "                bounding_boxes, _ = align.detect_face.detect_face(img, minsize, pnet, rnet, onet, threshold, factor)\n",
    "                nrof_faces = bounding_boxes.shape[0]\n",
    "                if nrof_faces>0:\n",
    "                    have_face = True\n",
    "                    det = bounding_boxes[:,0:4]\n",
    "                    det_arr = []\n",
    "                    result_face = []\n",
    "                    img_size = np.asarray(img.shape)[0:2]\n",
    "                    if nrof_faces>1:\n",
    "                        if detect_multiple_faces:\n",
    "                            for i in range(nrof_faces):\n",
    "                                det_arr.append(np.squeeze(det[i]))\n",
    "                        else:\n",
    "                            bounding_box_size = (det[:,2]-det[:,0])*(det[:,3]-det[:,1])\n",
    "                            img_center = img_size / 2\n",
    "                            offsets = np.vstack([ (det[:,0]+det[:,2])/2-img_center[1], (det[:,1]+det[:,3])/2-img_center[0] ])\n",
    "                            offset_dist_squared = np.sum(np.power(offsets,2.0),0)\n",
    "                            index = np.argmax(bounding_box_size-offset_dist_squared*2.0) # some extra weight on the centering\n",
    "                            det_arr.append(det[index,:])\n",
    "                    else:\n",
    "                        det_arr.append(np.squeeze(det))\n",
    "\n",
    "                    for i, det in enumerate(det_arr):\n",
    "                        det = np.squeeze(det)\n",
    "                        bb = np.zeros(4, dtype=np.int32)\n",
    "                        bb[0] = np.maximum(det[0]-margin/2, 0)\n",
    "                        bb[1] = np.maximum(det[1]-margin/2, 0)\n",
    "                        bb[2] = np.minimum(det[2]+margin/2, img_size[1])\n",
    "                        bb[3] = np.minimum(det[3]+margin/2, img_size[0])\n",
    "                        cropped = img[bb[1]:bb[3],bb[0]:bb[2],:]\n",
    "                        scaled = misc.imresize(cropped, (image_size, image_size), interp='bilinear')\n",
    "                #             result_face.append(scaled)\n",
    "                else:\n",
    "                    have_face = False\n",
    "               \n",
    "                if (have_face == True):\n",
    "                    cv2.rectangle(img,(bb[0],bb[1]),(bb[2],bb[3]),(64,64,64),2) #highlight detected face\n",
    "                    # Run forward pass to calculate embeddings\n",
    "                    emb_array = np.zeros((1, embedding_size))\n",
    "                        # prewhiten\n",
    "                    if do_prewhiten:\n",
    "                        scaled = facenet.prewhiten(scaled)\n",
    "                    scaled = np.reshape(scaled,(1, image_size, image_size,3))\n",
    "                        # feed_dict\n",
    "                    feed_dict = { images_placeholder:scaled, phase_train_placeholder:False }\n",
    "                    emb_array[0:1,:] = sess.run(embeddings, feed_dict=feed_dict)\n",
    "\n",
    "                    # Classify images\n",
    "                    predictions = model.predict_proba(emb_array)\n",
    "                    best_class_indices = np.argmax(predictions, axis=1)\n",
    "                    best_class_probabilities = predictions[np.arange(len(best_class_indices)), best_class_indices]\n",
    "                    result = str(class_names[best_class_indices[0]]) + \": \" + str(best_class_probabilities[0])\n",
    "#                     print(' %s: %.3f' % (class_names[best_class_indices[0]], best_class_probabilities[0]))\n",
    "                    color = (255,255,255)\n",
    "                    cv2.putText(img, result, (int(bb[0]+5), int(bb[1]-5)), cv2.FONT_HERSHEY_SIMPLEX, 0.5, color, 1)\n",
    "                cv2.imshow('img',img)\n",
    "\n",
    "                frame = frame + 1\n",
    "\n",
    "                #---------------------------------\n",
    "                if cv2.waitKey(70) & 0xFF == ord('q'): #press q to quit\n",
    "                    break\n",
    "            cv2.destroyAllWindows()"
   ]
  },
  {
   "cell_type": "code",
   "execution_count": null,
   "metadata": {},
   "outputs": [],
   "source": []
  },
  {
   "cell_type": "code",
   "execution_count": null,
   "metadata": {},
   "outputs": [],
   "source": []
  },
  {
   "cell_type": "code",
   "execution_count": null,
   "metadata": {},
   "outputs": [],
   "source": []
  },
  {
   "cell_type": "code",
   "execution_count": null,
   "metadata": {},
   "outputs": [],
   "source": []
  }
 ],
 "metadata": {
  "kernelspec": {
   "display_name": "Python 3",
   "language": "python",
   "name": "python3"
  },
  "language_info": {
   "codemirror_mode": {
    "name": "ipython",
    "version": 3
   },
   "file_extension": ".py",
   "mimetype": "text/x-python",
   "name": "python",
   "nbconvert_exporter": "python",
   "pygments_lexer": "ipython3",
   "version": "3.6.6"
  }
 },
 "nbformat": 4,
 "nbformat_minor": 2
}
