{
 "cells": [
  {
   "cell_type": "code",
   "execution_count": 6,
   "metadata": {},
   "outputs": [],
   "source": [
    "from __future__ import absolute_import\n",
    "from __future__ import division\n",
    "from __future__ import print_function\n",
    "\n",
    "from scipy import misc\n",
    "import sys\n",
    "import os\n",
    "import tensorflow as tf\n",
    "import numpy as np\n",
    "import facenet\n",
    "import align.detect_face\n",
    "import random\n",
    "from time import sleep\n",
    "\n",
    "import math\n",
    "import pickle\n",
    "from sklearn.svm import SVC"
   ]
  },
  {
   "cell_type": "code",
   "execution_count": 7,
   "metadata": {},
   "outputs": [],
   "source": [
    "margin = 44\n",
    "gpu_memory_fraction = 1.0\n",
    "detect_multiple_faces = False"
   ]
  },
  {
   "cell_type": "code",
   "execution_count": 8,
   "metadata": {},
   "outputs": [],
   "source": [
    "seed = 666\n",
    "image_size = 160\n",
    "do_prewhiten = True\n",
    "model = '/home/topica/workspace/facenet/src/ckpt/20180402-114759/'\n",
    "classifier_filename = '/home/topica/workspace/facenet/src/model_topica_weight.pkl'\n",
    "class_name = ['0','1','2','3','4','5','6','7','8','9','10']\n",
    "image_path = '/home/topica/workspace/facenet/dataset_topica/0/face_2_334.png'"
   ]
  },
  {
   "cell_type": "code",
   "execution_count": 9,
   "metadata": {},
   "outputs": [
    {
     "name": "stdout",
     "output_type": "stream",
     "text": [
      "Creating networks and loading parameters\n",
      "[[[130 138 128]\n",
      "  [127 135 125]\n",
      "  [120 128 118]\n",
      "  ...\n",
      "  [129 135 124]\n",
      "  [129 135 124]\n",
      "  [128 134 125]]\n",
      "\n",
      " [[131 139 129]\n",
      "  [127 135 125]\n",
      "  [119 127 117]\n",
      "  ...\n",
      "  [128 134 123]\n",
      "  [127 133 122]\n",
      "  [126 132 123]]\n",
      "\n",
      " [[131 139 129]\n",
      "  [127 135 125]\n",
      "  [118 126 116]\n",
      "  ...\n",
      "  [126 132 121]\n",
      "  [125 131 120]\n",
      "  [124 130 121]]\n",
      "\n",
      " ...\n",
      "\n",
      " [[203 199 191]\n",
      "  [204 198 191]\n",
      "  [201 195 188]\n",
      "  ...\n",
      "  [255 255 255]\n",
      "  [238 253 255]\n",
      "  [104 120 131]]\n",
      "\n",
      " [[204 200 192]\n",
      "  [204 198 191]\n",
      "  [200 194 187]\n",
      "  ...\n",
      "  [255 255 255]\n",
      "  [244 255 255]\n",
      "  [193 208 222]]\n",
      "\n",
      " [[203 199 191]\n",
      "  [204 198 191]\n",
      "  [200 194 187]\n",
      "  ...\n",
      "  [254 255 255]\n",
      "  [232 245 255]\n",
      "  [148 163 177]]]\n",
      "<class 'numpy.ndarray'> (160, 160, 3)\n",
      "<class 'numpy.ndarray'> (4,)\n"
     ]
    },
    {
     "name": "stderr",
     "output_type": "stream",
     "text": [
      "/home/topica/anaconda3/envs/workspace/lib/python3.6/site-packages/ipykernel_launcher.py:16: DeprecationWarning: `imread` is deprecated!\n",
      "`imread` is deprecated in SciPy 1.0.0, and will be removed in 1.2.0.\n",
      "Use ``imageio.imread`` instead.\n",
      "  app.launch_new_instance()\n",
      "/home/topica/anaconda3/envs/workspace/lib/python3.6/site-packages/ipykernel_launcher.py:57: DeprecationWarning: `imresize` is deprecated!\n",
      "`imresize` is deprecated in SciPy 1.0.0, and will be removed in 1.2.0.\n",
      "Use ``skimage.transform.resize`` instead.\n"
     ]
    }
   ],
   "source": [
    "sleep(random.random())\n",
    "\n",
    "print('Creating networks and loading parameters')\n",
    "\n",
    "with tf.Graph().as_default():\n",
    "    gpu_options = tf.GPUOptions(per_process_gpu_memory_fraction=gpu_memory_fraction)\n",
    "    sess = tf.Session(config=tf.ConfigProto(gpu_options=gpu_options, log_device_placement=False))\n",
    "    with sess.as_default():\n",
    "        pnet, rnet, onet = align.detect_face.create_mtcnn(sess, None)\n",
    "\n",
    "minsize = 20 # minimum size of face\n",
    "threshold = [ 0.6, 0.7, 0.7 ]  # three steps's threshold\n",
    "factor = 0.709 # scale factor\n",
    "\n",
    "try:\n",
    "    img = misc.imread(image_path)\n",
    "except (IOError, ValueError, IndexError) as e:\n",
    "    errorMessage = '{}: {}'.format(image_path, e)\n",
    "    print(errorMessage)\n",
    "else:\n",
    "    if img.ndim<2:\n",
    "        print('Unable to align \"%s\"' % image_path)\n",
    "    if img.ndim == 2:\n",
    "        img = facenet.to_rgb(img)\n",
    "    img = img[:,:,0:3]\n",
    "\n",
    "    bounding_boxes, _ = align.detect_face.detect_face(img, minsize, pnet, rnet, onet, threshold, factor)\n",
    "    nrof_faces = bounding_boxes.shape[0]\n",
    "    print(img)\n",
    "    if nrof_faces>0:\n",
    "        det = bounding_boxes[:,0:4]\n",
    "        det_arr = []\n",
    "        result_face = []\n",
    "        img_size = np.asarray(img.shape)[0:2]\n",
    "        if nrof_faces>1:\n",
    "            if detect_multiple_faces:\n",
    "                for i in range(nrof_faces):\n",
    "                    det_arr.append(np.squeeze(det[i]))\n",
    "            else:\n",
    "                bounding_box_size = (det[:,2]-det[:,0])*(det[:,3]-det[:,1])\n",
    "                img_center = img_size / 2\n",
    "                offsets = np.vstack([ (det[:,0]+det[:,2])/2-img_center[1], (det[:,1]+det[:,3])/2-img_center[0] ])\n",
    "                offset_dist_squared = np.sum(np.power(offsets,2.0),0)\n",
    "                index = np.argmax(bounding_box_size-offset_dist_squared*2.0) # some extra weight on the centering\n",
    "                det_arr.append(det[index,:])\n",
    "        else:\n",
    "            det_arr.append(np.squeeze(det))\n",
    "\n",
    "        for i, det in enumerate(det_arr):\n",
    "            det = np.squeeze(det)\n",
    "            bb = np.zeros(4, dtype=np.int32)\n",
    "            bb[0] = np.maximum(det[0]-margin/2, 0)\n",
    "            bb[1] = np.maximum(det[1]-margin/2, 0)\n",
    "            bb[2] = np.minimum(det[2]+margin/2, img_size[1])\n",
    "            bb[3] = np.minimum(det[3]+margin/2, img_size[0])\n",
    "            cropped = img[bb[1]:bb[3],bb[0]:bb[2],:]\n",
    "            scaled = misc.imresize(cropped, (image_size, image_size), interp='bilinear')\n",
    "#             result_face.append(scaled)\n",
    "            print(type(scaled),scaled.shape)\n",
    "            print(type(bb), bb.shape)\n",
    "    else:\n",
    "        print('Unable to align \"%s\"' % image_path)"
   ]
  },
  {
   "cell_type": "code",
   "execution_count": 10,
   "metadata": {},
   "outputs": [
    {
     "name": "stdout",
     "output_type": "stream",
     "text": [
      "Loading feature extraction model\n",
      "Model directory: /home/topica/workspace/facenet/src/ckpt/20180402-114759/\n",
      "Metagraph file: model-20180402-114759.meta\n",
      "Checkpoint file: model-20180402-114759.ckpt-275\n",
      "INFO:tensorflow:Restoring parameters from /home/topica/workspace/facenet/src/ckpt/20180402-114759/model-20180402-114759.ckpt-275\n",
      "Calculating features for images\n",
      "/home/topica/workspace/facenet/src/model_topica_weight.pkl\n",
      "Testing classifier\n",
      "Loaded classifier model from file \"/home/topica/workspace/facenet/src/model_topica_weight.pkl\"\n",
      "[[0.83377208 0.01617437 0.00856499 0.0087578  0.01660836 0.03411879\n",
      "  0.01905403 0.03210592 0.01309386 0.0049651  0.01278471]]\n",
      " 0: 0.834\n"
     ]
    }
   ],
   "source": [
    " with tf.Graph().as_default():\n",
    "        with tf.Session() as sess:   \n",
    "            np.random.seed(seed=seed)\n",
    "            \n",
    "            # Load the model\n",
    "            print('Loading feature extraction model')\n",
    "            facenet.load_model(model)\n",
    "            \n",
    "            # Get input and output tensors\n",
    "            images_placeholder = tf.get_default_graph().get_tensor_by_name(\"input:0\")\n",
    "            embeddings = tf.get_default_graph().get_tensor_by_name(\"embeddings:0\")\n",
    "            phase_train_placeholder = tf.get_default_graph().get_tensor_by_name(\"phase_train:0\")\n",
    "            embedding_size = embeddings.get_shape()[1]\n",
    "            \n",
    "            # Run forward pass to calculate embeddings\n",
    "            print('Calculating features for images')\n",
    "            emb_array = np.zeros((1, embedding_size))\n",
    "            if do_prewhiten:\n",
    "                img = facenet.prewhiten(scaled)\n",
    "            img = np.reshape(img,(1, image_size, image_size,3))\n",
    "            feed_dict = { images_placeholder:img, phase_train_placeholder:False }\n",
    "            emb_array[0:1,:] = sess.run(embeddings, feed_dict=feed_dict)\n",
    "            \n",
    "            classifier_filename_exp = os.path.expanduser(classifier_filename)\n",
    "            print(classifier_filename_exp)\n",
    "\n",
    "\n",
    "         \n",
    "            # Classify images\n",
    "            print('Testing classifier')\n",
    "            with open(classifier_filename_exp, 'rb') as infile:\n",
    "                (model, class_names) = pickle.load(infile)\n",
    "\n",
    "            print('Loaded classifier model from file \"%s\"' % classifier_filename_exp)\n",
    "\n",
    "            predictions = model.predict_proba(emb_array)\n",
    "            print(predictions)\n",
    "            best_class_indices = np.argmax(predictions, axis=1)\n",
    "            best_class_probabilities = predictions[np.arange(len(best_class_indices)), best_class_indices]\n",
    "            print(' %s: %.3f' % (class_names[best_class_indices[0]], best_class_probabilities[0]))\n",
    "\n",
    "#             accuracy = np.mean(np.equal(best_class_indices, labels))\n",
    "#             print('Accuracy: %.3f' % accuracy)\n"
   ]
  },
  {
   "cell_type": "code",
   "execution_count": 12,
   "metadata": {},
   "outputs": [],
   "source": [
    "scaled = np.empty((160, 160, 3))\n",
    "bb = np.empty((4,))"
   ]
  },
  {
   "cell_type": "code",
   "execution_count": 16,
   "metadata": {},
   "outputs": [
    {
     "data": {
      "text/plain": [
       "(160, 160, 3)"
      ]
     },
     "execution_count": 16,
     "metadata": {},
     "output_type": "execute_result"
    }
   ],
   "source": [
    "scaled.shape"
   ]
  },
  {
   "cell_type": "code",
   "execution_count": null,
   "metadata": {},
   "outputs": [],
   "source": []
  }
 ],
 "metadata": {
  "kernelspec": {
   "display_name": "Python 3",
   "language": "python",
   "name": "python3"
  },
  "language_info": {
   "codemirror_mode": {
    "name": "ipython",
    "version": 3
   },
   "file_extension": ".py",
   "mimetype": "text/x-python",
   "name": "python",
   "nbconvert_exporter": "python",
   "pygments_lexer": "ipython3",
   "version": "3.6.6"
  }
 },
 "nbformat": 4,
 "nbformat_minor": 2
}
